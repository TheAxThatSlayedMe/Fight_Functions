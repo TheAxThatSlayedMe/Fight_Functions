{
 "metadata": {
  "language_info": {
   "codemirror_mode": {
    "name": "ipython",
    "version": 3
   },
   "file_extension": ".py",
   "mimetype": "text/x-python",
   "name": "python",
   "nbconvert_exporter": "python",
   "pygments_lexer": "ipython3",
   "version": "3.7.3-final"
  },
  "orig_nbformat": 2,
  "kernelspec": {
   "name": "Python 3.7.3 64-bit",
   "display_name": "Python 3.7.3 64-bit",
   "metadata": {
    "interpreter": {
     "hash": "b3ba2566441a7c06988d0923437866b63cedc61552a5af99d1f4fb67d367b25f"
    }
   }
  }
 },
 "nbformat": 4,
 "nbformat_minor": 2,
 "cells": [
  {
   "cell_type": "code",
   "execution_count": 40,
   "metadata": {},
   "outputs": [],
   "source": [
    "#same as original\n",
    "import random\n",
    "from functools import reduce\n",
    "from operator import concat\n"
   ]
  },
  {
   "cell_type": "code",
   "execution_count": 41,
   "metadata": {},
   "outputs": [
    {
     "output_type": "execute_result",
     "data": {
      "text/plain": "[['Black Hat',\n  'Cueball',\n  'Megan',\n  'Beret Guy',\n  'White Hat',\n  'Danish',\n  'velociraptor on a hoverboard'],\n ['Linus Torvald',\n  'Steve Wozniak',\n  'Edward Snowden',\n  'Ada Lovelace',\n  'Alan Turing'],\n ['Superman',\n  'Spiderman',\n  'Batman',\n  'Catwoman',\n  'Batgirl',\n  'Supergirl',\n  'Iron Man',\n  'Incredible Hulk',\n  'Ant Man',\n  'Dr. X']]"
     },
     "metadata": {},
     "execution_count": 41
    }
   ],
   "source": [
    "\n",
    "\n",
    "def return_list_of_txt_files_in_path(username, category_path):\n",
    "    user_folder = username\n",
    "    pack_paths_file = './' + user_folder + category_path\n",
    "    pack_paths_list = open(pack_paths_file, 'r').read().splitlines()\n",
    "    return pack_paths_list\n",
    "\n",
    "def turn_list_of_files_into_list_of_their_contents(user_category_txtlist):\n",
    "    bluh = []\n",
    "    for i in user_category_txtlist:\n",
    "        one_pack_file = i\n",
    "        one_pack_list = open(one_pack_file, 'r').read().splitlines()\n",
    "        bluh.append(one_pack_list)\n",
    "    return bluh\n",
    "    \n",
    "def flatten_list(nested_list):\n",
    "\n",
    "    flat_list = []\n",
    "    for sublist in nested_list:\n",
    "        for item in sublist:\n",
    "            flat_list.append(item)\n",
    "    return flat_list \n",
    "\n",
    "\n",
    "#A lot of these variables will be replaced by functions later. I'll eventually add\n",
    "#the ability for the user to choose their packs. This will generate files and file paths,\n",
    "# which is also where some of the variables will come from.\n",
    "# Right now, the packs are just assigned to the user by hand.\n",
    "\n",
    "user = input('who is playing? try abc, lotus, kid, or nsfw')\n",
    "\n",
    "opponents_path = '/opponents/opponents_paths.txt'\n",
    "contests_path = '/contests/contests_paths.txt'\n",
    "\n",
    "user_opponents_txtlist = return_list_of_txt_files_in_path(user, opponents_path)\n",
    "user_contests_txtlist = return_list_of_txt_files_in_path(user, contests_path)\n",
    "\n",
    "opponents_nested = turn_list_of_files_into_list_of_their_contents(user_opponents_txtlist)\n",
    "contests_nested = turn_list_of_files_into_list_of_their_contents(user_contests_txtlist)\n",
    "\n",
    "opponents = flatten_list(opponents_nested)\n",
    "contests2 = flatten_list(contests_nested)\n",
    "\n",
    "\n",
    "turn_list_of_files_into_list_of_their_contents(user_opponents_txtlist)\n",
    "\n"
   ]
  },
  {
   "cell_type": "code",
   "execution_count": 42,
   "metadata": {
    "tags": []
   },
   "outputs": [
    {
     "output_type": "stream",
     "name": "stdout",
     "text": "Who would win in a tennis match, a 11-year-old Dr. X or a 10-year-old Superman?\nWho would win in scrabble, a 3-year-old Spiderman or a 74-year-old Dr. X?\nWho would win in finding the clitoris, a 58-year-old Dr. X or a 42-year-old Incredible Hulk?\nWho would win in finding the clitoris, a 15-year-old Batman or a 66-year-old Ant Man?\nWho would win in a drinking contest, a 25-year-old velociraptor on a hoverboard or a 39-year-old Incredible Hulk?\nWho would win in asserting dominance in bed, a 69-year-old Supergirl or a 72-year-old Ant Man?\nWho would win in a hotdog-eating championship, a 93-year-old Iron Man or a 98-year-old Ada Lovelace?\nWho would win in a fight, a 15-year-old Batgirl or a 60-year-old Ada Lovelace?\nWho would win in a hotdog-eating championship, a 14-year-old White Hat or a 79-year-old Ant Man?\nWho would win in asserting dominance in bed, a 95-year-old Beret Guy or a 83-year-old Cueball?\nWho would win in a race, a 50-year-old Beret Guy or a 7-year-old Megan?\nGoodbye.\n"
    }
   ],
   "source": [
    "#same as original\n",
    "\n",
    "\n",
    "def random_ages(min_age=1, max_age=101):\n",
    "    while True:\n",
    "        yield random.randint(min_age, max_age) \n",
    "\n",
    "def random_fighters(fighters):\n",
    "    while True:\n",
    "        yield random.choice(fighters)     \n",
    "\n",
    "def random_contests(contests): \n",
    "    while True:\n",
    "        yield random.choice(contests)\n",
    "\n",
    "def get_fight(fighter_a, fighter_a_age, fighter_b, fighter_b_age, contest):\n",
    "    return reduce(concat, [ \n",
    "        'Who would win in ',\n",
    "        contest,\n",
    "        ', a ',\n",
    "        str(fighter_a_age),\n",
    "        '-year-old ',\n",
    "        fighter_a,\n",
    "        ' or a ',\n",
    "        str(fighter_b_age),\n",
    "        '-year-old ',\n",
    "        fighter_b,\n",
    "        '?'\n",
    "    ])\n",
    "\n",
    "if __name__ == '__main__':\n",
    "    # Must be phrased to fit syntax, \"a 40-year old ____\"\n",
    "    fighters = opponents\n",
    "\n",
    "    # Must be phrased to fit syntax, \"Who would win in ____\"\n",
    "    contests = contests2\n",
    "\n",
    "    fighters = random_fighters(fighters) \n",
    "    contests = random_contests(contests) \n",
    "\n",
    "    ages = random_ages()\n",
    "\n",
    "    while True: \n",
    "        print(get_fight( \n",
    "            fighter_a       = next(fighters),\n",
    "            fighter_a_age   = next(ages),\n",
    "            fighter_b       = next(fighters), \n",
    "            fighter_b_age   = next(ages),\n",
    "            contest         = next(contests),\n",
    "\n",
    "            \n",
    "\n",
    "        ))\n",
    "\n",
    "        if input(\"Run again? y/n: \").lower() != \"y\":\n",
    "            print(\"Goodbye.\")\n",
    "            break\n",
    " \n"
   ]
  },
  {
   "cell_type": "code",
   "execution_count": null,
   "metadata": {},
   "outputs": [],
   "source": []
  }
 ]
}