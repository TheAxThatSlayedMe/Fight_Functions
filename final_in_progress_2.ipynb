{
 "metadata": {
  "language_info": {
   "codemirror_mode": {
    "name": "ipython",
    "version": 3
   },
   "file_extension": ".py",
   "mimetype": "text/x-python",
   "name": "python",
   "nbconvert_exporter": "python",
   "pygments_lexer": "ipython3",
   "version": "3.7.3-final"
  },
  "orig_nbformat": 2,
  "kernelspec": {
   "name": "Python 3.7.3 64-bit",
   "display_name": "Python 3.7.3 64-bit",
   "metadata": {
    "interpreter": {
     "hash": "b3ba2566441a7c06988d0923437866b63cedc61552a5af99d1f4fb67d367b25f"
    }
   }
  }
 },
 "nbformat": 4,
 "nbformat_minor": 2,
 "cells": [
  {
   "cell_type": "code",
   "execution_count": 4,
   "metadata": {
    "tags": []
   },
   "outputs": [
    {
     "output_type": "stream",
     "name": "stdout",
     "text": "Here\n['a', 'aa', 'aaa', 'b', 'bb', 'bbb']\nbb\nbbb\n"
    }
   ],
   "source": [
    "import random\n",
    "from functools import reduce\n",
    "from operator import concat\n",
    "\n",
    "#This section creates a flat list of lists, but it's assigned to the function and not to a global variable.\n",
    "\n",
    "def list_of_packs(): #This function must be rewritten to look in directory and create variables assigned to each list.\n",
    "#Must be able to fetch opponents or contests.\n",
    "    lla = ['a', 'aa', 'aaa']\n",
    "    llb = ['b', 'bb', 'bbb']\n",
    "    yield lla\n",
    "    yield llb #return only returns ONE of these, just llb. This returns a generator object, and it's ok.\n",
    "\n",
    "\n",
    "\n",
    "def combine_lists2():\n",
    "    return reduce(concat, [\n",
    "        list_of_packs()\n",
    "\n",
    "    ])\n",
    "\n",
    "def flatten_list(local_nested_list):\n",
    "\n",
    "    flat_list = []\n",
    "    for sublist in local_nested_list:\n",
    "        for item in sublist:\n",
    "            flat_list.append(item)\n",
    "    yield flat_list \n",
    "\n",
    "def gather_list_functions(list_name): #will be gather_list_functions(opponents) or (contests)\n",
    "    list_name = list(flatten_list(combine_lists2()))\n",
    "    list_name = list_name[0] #Without this line, a list of one list is created, meaning that when \n",
    "    #random tries to pull a random index, it pulls the entire list since the entire list is inside\n",
    "    #brackets at index 0. Comment this line out and function will yield [[item, item, item]]\n",
    "    #instead of [item, item, item]\n",
    "    return list_name #yield list_name creates a generator object\n",
    "\n",
    "opponents = []\n",
    "\n",
    "#gather_list_functions(opponents) #A\n",
    "\n",
    "#comment out the rest of this cell.\n",
    "opponents = gather_list_functions(opponents) \n",
    "opponent_a = random_item(opponents)\n",
    "opponent_b = random_item(opponents)\n",
    "\n",
    "\n",
    "print(\"Here\")\n",
    "print(opponents)\n",
    "print(opponent_a)\n",
    "print(opponent_b)\n",
    "\n",
    "\n"
   ]
  },
  {
   "cell_type": "code",
   "execution_count": 3,
   "metadata": {},
   "outputs": [
    {
     "output_type": "execute_result",
     "data": {
      "text/plain": "'bbb'"
     },
     "metadata": {},
     "execution_count": 3
    }
   ],
   "source": [
    "def random_item(a_list):\n",
    "    while True:\n",
    "        return random.choice(a_list)\n",
    "\n",
    "random_item(opponents)"
   ]
  },
  {
   "cell_type": "code",
   "execution_count": null,
   "metadata": {},
   "outputs": [],
   "source": []
  }
 ]
}