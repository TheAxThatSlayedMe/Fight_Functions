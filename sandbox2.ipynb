{
 "metadata": {
  "language_info": {
   "codemirror_mode": {
    "name": "ipython",
    "version": 3
   },
   "file_extension": ".py",
   "mimetype": "text/x-python",
   "name": "python",
   "nbconvert_exporter": "python",
   "pygments_lexer": "ipython3",
   "version": "3.7.3-final"
  },
  "orig_nbformat": 2,
  "kernelspec": {
   "name": "Python 3.7.3 64-bit",
   "display_name": "Python 3.7.3 64-bit",
   "metadata": {
    "interpreter": {
     "hash": "b3ba2566441a7c06988d0923437866b63cedc61552a5af99d1f4fb67d367b25f"
    }
   }
  }
 },
 "nbformat": 4,
 "nbformat_minor": 2,
 "cells": [
  {
   "cell_type": "code",
   "execution_count": 4,
   "metadata": {
    "tags": []
   },
   "outputs": [
    {
     "output_type": "stream",
     "name": "stdout",
     "text": "['./packs/opponents/a.txt', './packs/opponents/b.txt', './packs/opponents/c.txt']\n./packs/opponents/a.txt\n"
    }
   ],
   "source": [
    "import random\n",
    "from functools import reduce\n",
    "from operator import concat\n",
    "\n",
    "user = 'abc'\n",
    "\n",
    "def user_opponents(username):\n",
    "    user_folder = username\n",
    "    pack_paths_file = './' + user_folder + '/opponents/opponents_paths.txt'\n",
    "    #print(pack_paths_file)\n",
    "    pack_paths_list = open(pack_paths_file, 'r').read().splitlines()\n",
    "    #print(pack_paths_list)\n",
    "    return pack_paths_list\n",
    "\n",
    "user_opponents_txtlist = user_opponents(user)\n",
    "\n",
    "print(user_opponents_txtlist)\n",
    "print(user_opponents_txtlist[0])\n"
   ]
  },
  {
   "cell_type": "code",
   "execution_count": 5,
   "metadata": {
    "tags": []
   },
   "outputs": [
    {
     "output_type": "stream",
     "name": "stdout",
     "text": "['./packs/contests/sfw.txt']\n"
    }
   ],
   "source": [
    "def user_contests(username):\n",
    "    user_folder = username\n",
    "    pack_paths_file = './' + user_folder + '/contests/contests_paths.txt'\n",
    "    #print(pack_paths_file)\n",
    "    pack_paths_list = open(pack_paths_file, 'r').read().splitlines()\n",
    "    #print(pack_paths_list)\n",
    "    return pack_paths_list\n",
    "\n",
    "user_contests_txtlist = user_contests(user)\n",
    "\n",
    "print(user_contests_txtlist)"
   ]
  },
  {
   "cell_type": "code",
   "execution_count": 6,
   "metadata": {
    "tags": []
   },
   "outputs": [
    {
     "output_type": "execute_result",
     "data": {
      "text/plain": "10"
     },
     "metadata": {},
     "execution_count": 6
    }
   ],
   "source": [
    "5+5"
   ]
  },
  {
   "cell_type": "code",
   "execution_count": 7,
   "metadata": {
    "tags": []
   },
   "outputs": [
    {
     "output_type": "stream",
     "name": "stdout",
     "text": "['apple', 'android', 'Amy']\n['b', 'bb', 'bbb']\n['cat', 'carrot', 'civet']\n"
    }
   ],
   "source": [
    "def turn_list_of_files_into_list_of_their_contents(user_category_txtlist):\n",
    "    for i in user_category_txtlist:\n",
    "        one_pack_file = i\n",
    "        #print(i)\n",
    "        one_pack_list = open(one_pack_file, 'r').read().splitlines()\n",
    "        print(one_pack_list)\n",
    "\n",
    "    \n",
    "turn_list_of_files_into_list_of_their_contents(user_opponents_txtlist)"
   ]
  },
  {
   "cell_type": "code",
   "execution_count": 10,
   "metadata": {
    "tags": []
   },
   "outputs": [
    {
     "output_type": "stream",
     "name": "stdout",
     "text": "['apple', 'android', 'Amy']\n[['apple', 'android', 'Amy']]\n['b', 'bb', 'bbb']\n[['apple', 'android', 'Amy'], ['b', 'bb', 'bbb']]\n['cat', 'carrot', 'civet']\n[['apple', 'android', 'Amy'], ['b', 'bb', 'bbb'], ['cat', 'carrot', 'civet']]\n"
    },
    {
     "output_type": "execute_result",
     "data": {
      "text/plain": "[['apple', 'android', 'Amy'], ['b', 'bb', 'bbb'], ['cat', 'carrot', 'civet']]"
     },
     "metadata": {},
     "execution_count": 10
    }
   ],
   "source": [
    "def turn_list_of_files_into_list_of_their_contents(user_category_txtlist):\n",
    "    bluh = []\n",
    "    for i in user_category_txtlist:\n",
    "        one_pack_file = i\n",
    "        #print(i)\n",
    "        one_pack_list = open(one_pack_file, 'r').read().splitlines()\n",
    "        print(one_pack_list)\n",
    "        bluh.append(one_pack_list)\n",
    "        print(bluh)\n",
    "    return bluh\n",
    "\n",
    "    \n",
    "turn_list_of_files_into_list_of_their_contents(user_opponents_txtlist)"
   ]
  },
  {
   "cell_type": "code",
   "execution_count": 13,
   "metadata": {
    "tags": []
   },
   "outputs": [
    {
     "output_type": "stream",
     "name": "stdout",
     "text": "['apple', 'android', 'Amy']\n[['apple', 'android', 'Amy']]\n['b', 'bb', 'bbb']\n[['apple', 'android', 'Amy'], ['b', 'bb', 'bbb']]\n['cat', 'carrot', 'civet']\n[['apple', 'android', 'Amy'], ['b', 'bb', 'bbb'], ['cat', 'carrot', 'civet']]\n[['apple', 'android', 'Amy'], ['b', 'bb', 'bbb'], ['cat', 'carrot', 'civet']]\n"
    }
   ],
   "source": [
    "spam = turn_list_of_files_into_list_of_their_contents(user_opponents_txtlist)\n",
    "print(spam)"
   ]
  },
  {
   "cell_type": "code",
   "execution_count": 15,
   "metadata": {},
   "outputs": [
    {
     "output_type": "execute_result",
     "data": {
      "text/plain": "['apple', 'android', 'Amy', 'b', 'bb', 'bbb', 'cat', 'carrot', 'civet']"
     },
     "metadata": {},
     "execution_count": 15
    }
   ],
   "source": [
    "def flatten_list(local_nested_list):\n",
    "\n",
    "    flat_list = []\n",
    "    for sublist in local_nested_list:\n",
    "        for item in sublist:\n",
    "            flat_list.append(item)\n",
    "    return flat_list \n",
    "\n",
    "flatten_list(spam)"
   ]
  },
  {
   "cell_type": "code",
   "execution_count": null,
   "metadata": {},
   "outputs": [],
   "source": [
    "#WORKS turns one txt file into a list of its contents.\n",
    "\n",
    "one_pack_file = user_opponents_txtlist[0]\n",
    "one_pack_list = open(one_pack_file, 'r').read().splitlines()\n",
    "print(one_pack_list)"
   ]
  },
  {
   "cell_type": "code",
   "execution_count": 67,
   "metadata": {
    "tags": []
   },
   "outputs": [
    {
     "output_type": "stream",
     "name": "stdout",
     "text": "['apple', 'android', 'Amy']\n['b', 'bb', 'bbb']\n['cat', 'carrot', 'civet']\n"
    }
   ],
   "source": [
    "for i in user_opponents_txtlist:\n",
    "    one_pack_file = i\n",
    "    #print(i)\n",
    "    one_pack_list = open(one_pack_file, 'r').read().splitlines()\n",
    "    print(one_pack_list)\n"
   ]
  },
  {
   "cell_type": "code",
   "execution_count": 68,
   "metadata": {
    "tags": []
   },
   "outputs": [
    {
     "output_type": "stream",
     "name": "stdout",
     "text": "['apple', 'android', 'Amy']\n['b', 'bb', 'bbb']\n['cat', 'carrot', 'civet']\n"
    }
   ],
   "source": [
    "def turn_list_of_files_into_list_of_their_contents(user_category_txtlist):\n",
    "    for i in user_category_txtlist:\n",
    "        one_pack_file = i\n",
    "        #print(i)\n",
    "        one_pack_list = open(one_pack_file, 'r').read().splitlines()\n",
    "        print(one_pack_list)\n",
    "\n",
    "    \n",
    "turn_list_of_files_into_list_of_their_contents(user_opponents_txtlist)"
   ]
  },
  {
   "cell_type": "code",
   "execution_count": 45,
   "metadata": {},
   "outputs": [
    {
     "output_type": "error",
     "ename": "TypeError",
     "evalue": "expected str, bytes or os.PathLike object, not list_iterator",
     "traceback": [
      "\u001b[1;31m---------------------------------------------------------------------------\u001b[0m",
      "\u001b[1;31mTypeError\u001b[0m                                 Traceback (most recent call last)",
      "\u001b[1;32m<ipython-input-45-07adb7dfcc41>\u001b[0m in \u001b[0;36m<module>\u001b[1;34m\u001b[0m\n\u001b[0;32m      4\u001b[0m \u001b[0mit_user_opponents_txtlist\u001b[0m \u001b[1;33m=\u001b[0m \u001b[0miter\u001b[0m\u001b[1;33m(\u001b[0m\u001b[0muser_opponents_txtlist\u001b[0m\u001b[1;33m)\u001b[0m\u001b[1;33m\u001b[0m\u001b[1;33m\u001b[0m\u001b[0m\n\u001b[0;32m      5\u001b[0m \u001b[0mone_pack_file\u001b[0m \u001b[1;33m=\u001b[0m \u001b[0mit_user_opponents_txtlist\u001b[0m\u001b[1;33m\u001b[0m\u001b[1;33m\u001b[0m\u001b[0m\n\u001b[1;32m----> 6\u001b[1;33m \u001b[0mone_pack_list\u001b[0m \u001b[1;33m=\u001b[0m \u001b[0mopen\u001b[0m\u001b[1;33m(\u001b[0m\u001b[0mone_pack_file\u001b[0m\u001b[1;33m,\u001b[0m \u001b[1;34m'r'\u001b[0m\u001b[1;33m)\u001b[0m\u001b[1;33m.\u001b[0m\u001b[0mread\u001b[0m\u001b[1;33m(\u001b[0m\u001b[1;33m)\u001b[0m\u001b[1;33m.\u001b[0m\u001b[0msplitlines\u001b[0m\u001b[1;33m(\u001b[0m\u001b[1;33m)\u001b[0m\u001b[1;33m\u001b[0m\u001b[1;33m\u001b[0m\u001b[0m\n\u001b[0m\u001b[0;32m      7\u001b[0m \u001b[0mprint\u001b[0m\u001b[1;33m(\u001b[0m\u001b[0mone_pack_list\u001b[0m\u001b[1;33m)\u001b[0m\u001b[1;33m\u001b[0m\u001b[1;33m\u001b[0m\u001b[0m\n",
      "\u001b[1;31mTypeError\u001b[0m: expected str, bytes or os.PathLike object, not list_iterator"
     ]
    }
   ],
   "source": [
    "#user_contests_txtlist = ['./packs/contests/sfw.txt', './packs/contests/nsfw/txt']\n",
    "#user_opponents_txtlist = ['./packs/opponents/buffy.txt', './packs/opponents/heinlein.txt']\n",
    "\n",
    "it_user_opponents_txtlist = iter(user_opponents_txtlist)\n",
    "one_pack_file = it_user_opponents_txtlist\n",
    "one_pack_list = open(one_pack_file, 'r').read().splitlines()\n",
    "print(one_pack_list)"
   ]
  },
  {
   "cell_type": "code",
   "execution_count": 25,
   "metadata": {
    "tags": []
   },
   "outputs": [
    {
     "output_type": "stream",
     "name": "stdout",
     "text": "['./packs/opponents/buffy.txt', './packs/opponents/heinlein.txt']\n"
    }
   ],
   "source": [
    "def lissst(passed_var):\n",
    "    lissst = []\n",
    "    L = passed_var\n",
    "    it = iter(L)\n",
    "    for i in range(0, len(L)):\n",
    "        lissst.append(next(it))\n",
    "\n",
    "    print(lissst)\n",
    "\n",
    "lissst(user_opponents)"
   ]
  },
  {
   "cell_type": "code",
   "execution_count": 34,
   "metadata": {
    "tags": []
   },
   "outputs": [
    {
     "output_type": "error",
     "ename": "TypeError",
     "evalue": "expected str, bytes or os.PathLike object, not list",
     "traceback": [
      "\u001b[1;31m---------------------------------------------------------------------------\u001b[0m",
      "\u001b[1;31mTypeError\u001b[0m                                 Traceback (most recent call last)",
      "\u001b[1;32m<ipython-input-34-062a3560afd9>\u001b[0m in \u001b[0;36m<module>\u001b[1;34m\u001b[0m\n\u001b[0;32m      9\u001b[0m     \u001b[0mprint\u001b[0m\u001b[1;33m(\u001b[0m\u001b[0mlissst\u001b[0m\u001b[1;33m)\u001b[0m\u001b[1;33m\u001b[0m\u001b[1;33m\u001b[0m\u001b[0m\n\u001b[0;32m     10\u001b[0m \u001b[1;33m\u001b[0m\u001b[0m\n\u001b[1;32m---> 11\u001b[1;33m \u001b[0mlissst\u001b[0m\u001b[1;33m(\u001b[0m\u001b[0muser_opponents\u001b[0m\u001b[1;33m)\u001b[0m\u001b[1;33m\u001b[0m\u001b[1;33m\u001b[0m\u001b[0m\n\u001b[0m",
      "\u001b[1;32m<ipython-input-34-062a3560afd9>\u001b[0m in \u001b[0;36mlissst\u001b[1;34m(passed_var)\u001b[0m\n\u001b[0;32m      4\u001b[0m     \u001b[0mit\u001b[0m \u001b[1;33m=\u001b[0m \u001b[0miter\u001b[0m\u001b[1;33m(\u001b[0m\u001b[0mL\u001b[0m\u001b[1;33m)\u001b[0m\u001b[1;33m\u001b[0m\u001b[1;33m\u001b[0m\u001b[0m\n\u001b[0;32m      5\u001b[0m     \u001b[1;32mfor\u001b[0m \u001b[0mi\u001b[0m \u001b[1;32min\u001b[0m \u001b[0mrange\u001b[0m\u001b[1;33m(\u001b[0m\u001b[1;36m0\u001b[0m\u001b[1;33m,\u001b[0m \u001b[0mlen\u001b[0m\u001b[1;33m(\u001b[0m\u001b[0mL\u001b[0m\u001b[1;33m)\u001b[0m\u001b[1;33m)\u001b[0m\u001b[1;33m:\u001b[0m\u001b[1;33m\u001b[0m\u001b[1;33m\u001b[0m\u001b[0m\n\u001b[1;32m----> 6\u001b[1;33m         \u001b[0mone_pack_list\u001b[0m \u001b[1;33m=\u001b[0m \u001b[0mopen\u001b[0m\u001b[1;33m(\u001b[0m\u001b[0mone_pack_file\u001b[0m\u001b[1;33m,\u001b[0m \u001b[1;34m'r'\u001b[0m\u001b[1;33m)\u001b[0m\u001b[1;33m.\u001b[0m\u001b[0mread\u001b[0m\u001b[1;33m(\u001b[0m\u001b[1;33m)\u001b[0m\u001b[1;33m.\u001b[0m\u001b[0msplitlines\u001b[0m\u001b[1;33m(\u001b[0m\u001b[1;33m)\u001b[0m\u001b[1;33m\u001b[0m\u001b[1;33m\u001b[0m\u001b[0m\n\u001b[0m\u001b[0;32m      7\u001b[0m         \u001b[0mlissst\u001b[0m\u001b[1;33m.\u001b[0m\u001b[0mappend\u001b[0m\u001b[1;33m(\u001b[0m\u001b[0mone_pack_list\u001b[0m\u001b[1;33m)\u001b[0m\u001b[1;33m\u001b[0m\u001b[1;33m\u001b[0m\u001b[0m\n\u001b[0;32m      8\u001b[0m \u001b[1;33m\u001b[0m\u001b[0m\n",
      "\u001b[1;31mTypeError\u001b[0m: expected str, bytes or os.PathLike object, not list"
     ]
    }
   ],
   "source": [
    "def lissst(passed_var):\n",
    "    lissst = []\n",
    "    L = passed_var\n",
    "    it = iter(L)\n",
    "    for i in range(0, len(L)):\n",
    "        one_pack_list = open(one_pack_file, 'r').read().splitlines()\n",
    "        lissst.append(one_pack_list)\n",
    "\n",
    "    print(lissst)\n",
    "\n",
    "lissst(user_opponents)"
   ]
  },
  {
   "cell_type": "code",
   "execution_count": 33,
   "metadata": {
    "tags": []
   },
   "outputs": [
    {
     "output_type": "error",
     "ename": "TypeError",
     "evalue": "expected str, bytes or os.PathLike object, not list",
     "traceback": [
      "\u001b[1;31m---------------------------------------------------------------------------\u001b[0m",
      "\u001b[1;31mTypeError\u001b[0m                                 Traceback (most recent call last)",
      "\u001b[1;32m<ipython-input-33-e7ff81fae321>\u001b[0m in \u001b[0;36m<module>\u001b[1;34m\u001b[0m\n\u001b[0;32m      1\u001b[0m \u001b[0mone_pack_file\u001b[0m \u001b[1;33m=\u001b[0m \u001b[0muser_opponents\u001b[0m\u001b[1;33m\u001b[0m\u001b[1;33m\u001b[0m\u001b[0m\n\u001b[1;32m----> 2\u001b[1;33m \u001b[0mone_pack_list\u001b[0m \u001b[1;33m=\u001b[0m \u001b[0mopen\u001b[0m\u001b[1;33m(\u001b[0m\u001b[0mone_pack_file\u001b[0m\u001b[1;33m,\u001b[0m \u001b[1;34m'r'\u001b[0m\u001b[1;33m)\u001b[0m\u001b[1;33m.\u001b[0m\u001b[0mread\u001b[0m\u001b[1;33m(\u001b[0m\u001b[1;33m)\u001b[0m\u001b[1;33m.\u001b[0m\u001b[0msplitlines\u001b[0m\u001b[1;33m(\u001b[0m\u001b[1;33m)\u001b[0m\u001b[1;33m\u001b[0m\u001b[1;33m\u001b[0m\u001b[0m\n\u001b[0m\u001b[0;32m      3\u001b[0m \u001b[0mprint\u001b[0m\u001b[1;33m(\u001b[0m\u001b[0mone_pack_list\u001b[0m\u001b[1;33m)\u001b[0m\u001b[1;33m\u001b[0m\u001b[1;33m\u001b[0m\u001b[0m\n",
      "\u001b[1;31mTypeError\u001b[0m: expected str, bytes or os.PathLike object, not list"
     ]
    }
   ],
   "source": [
    "one_pack_file = user_opponents\n",
    "one_pack_list = open(one_pack_file, 'r').read().splitlines()\n",
    "print(one_pack_list)"
   ]
  },
  {
   "cell_type": "code",
   "execution_count": null,
   "metadata": {},
   "outputs": [],
   "source": [
    "def lissst(passed_var):\n",
    "    lissst = []\n",
    "    L = passed_var\n",
    "    it = iter(L)\n",
    "    for i in range(0, len(L)):\n",
    "        lissst.append(next(it))\n",
    "\n",
    "    print(lissst)\n",
    "\n",
    "lissst(one_pack_list)"
   ]
  },
  {
   "cell_type": "code",
   "execution_count": null,
   "metadata": {},
   "outputs": [],
   "source": [
    "one_pack_file = './packs/opponents/a.txt'\n",
    "one_pack_list = open(one_pack_file, 'r').read().splitlines()\n",
    "print(one_pack_list)"
   ]
  },
  {
   "cell_type": "code",
   "execution_count": null,
   "metadata": {},
   "outputs": [],
   "source": []
  }
 ]
}