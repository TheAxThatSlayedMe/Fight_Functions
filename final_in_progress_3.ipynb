{
 "metadata": {
  "language_info": {
   "codemirror_mode": {
    "name": "ipython",
    "version": 3
   },
   "file_extension": ".py",
   "mimetype": "text/x-python",
   "name": "python",
   "nbconvert_exporter": "python",
   "pygments_lexer": "ipython3",
   "version": "3.7.3-final"
  },
  "orig_nbformat": 2,
  "kernelspec": {
   "name": "Python 3.7.3 64-bit",
   "display_name": "Python 3.7.3 64-bit",
   "metadata": {
    "interpreter": {
     "hash": "b3ba2566441a7c06988d0923437866b63cedc61552a5af99d1f4fb67d367b25f"
    }
   }
  }
 },
 "nbformat": 4,
 "nbformat_minor": 2,
 "cells": [
  {
   "cell_type": "code",
   "execution_count": 15,
   "metadata": {},
   "outputs": [],
   "source": [
    "import random\n",
    "from functools import reduce\n",
    "from operator import concat"
   ]
  },
  {
   "cell_type": "code",
   "execution_count": 24,
   "metadata": {},
   "outputs": [],
   "source": [
    "#Will be replaced by a function that prompts you to enter your username.\n",
    "user = 'abc'"
   ]
  },
  {
   "cell_type": "code",
   "execution_count": 25,
   "metadata": {
    "tags": []
   },
   "outputs": [],
   "source": [
    "\n",
    "#Each of these variables will come from a function that generates it.\n",
    "\n",
    "opponents_path = '/opponents/opponents_paths.txt'\n",
    "contests_path = '/contests/contests_paths.txt'\n",
    "user_opponents_txtlist = return_list_of_txt_files_in_path(user, opponents_path)\n",
    "user_contests_txtlist = return_list_of_txt_files_in_path(user, contests_path)\n"
   ]
  },
  {
   "cell_type": "code",
   "execution_count": 4,
   "metadata": {
    "tags": []
   },
   "outputs": [
    {
     "output_type": "stream",
     "name": "stdout",
     "text": "['./packs/contests/sfw.txt']\n"
    }
   ],
   "source": []
  },
  {
   "cell_type": "code",
   "execution_count": 26,
   "metadata": {
    "tags": []
   },
   "outputs": [
    {
     "output_type": "stream",
     "name": "stdout",
     "text": "['./packs/opponents/a.txt', './packs/opponents/b.txt', './packs/opponents/c.txt']\n['./packs/contests/sfw.txt']\n"
    }
   ],
   "source": [
    "def return_list_of_txt_files_in_path(username, category_path):\n",
    "    user_folder = username\n",
    "    pack_paths_file = './' + user_folder + category_path\n",
    "    #print(pack_paths_file)\n",
    "    pack_paths_list = open(pack_paths_file, 'r').read().splitlines()\n",
    "    #print(pack_paths_list)\n",
    "    return pack_paths_list\n",
    "\n",
    "\n",
    "\n",
    "print(user_opponents_txtlist)\n",
    "print(user_contests_txtlist)"
   ]
  },
  {
   "cell_type": "code",
   "execution_count": 27,
   "metadata": {
    "tags": []
   },
   "outputs": [
    {
     "output_type": "execute_result",
     "data": {
      "text/plain": "[['apple', 'android', 'Amy'], ['b', 'bb', 'bbb'], ['cat', 'carrot', 'civet']]"
     },
     "metadata": {},
     "execution_count": 27
    }
   ],
   "source": [
    "def turn_list_of_files_into_list_of_their_contents(user_category_txtlist):\n",
    "    bluh = []\n",
    "    for i in user_category_txtlist:\n",
    "        one_pack_file = i\n",
    "        #print(i)\n",
    "        one_pack_list = open(one_pack_file, 'r').read().splitlines()\n",
    "        #print(one_pack_list)\n",
    "        bluh.append(one_pack_list)\n",
    "        #print(bluh)\n",
    "    return bluh\n",
    "\n",
    "    \n",
    "turn_list_of_files_into_list_of_their_contents(user_opponents_txtlist)"
   ]
  },
  {
   "cell_type": "code",
   "execution_count": 28,
   "metadata": {
    "tags": []
   },
   "outputs": [
    {
     "output_type": "stream",
     "name": "stdout",
     "text": "[['apple', 'android', 'Amy'], ['b', 'bb', 'bbb'], ['cat', 'carrot', 'civet']]\n"
    }
   ],
   "source": [
    "spam = turn_list_of_files_into_list_of_their_contents(user_opponents_txtlist)\n",
    "print(spam)"
   ]
  },
  {
   "cell_type": "code",
   "execution_count": 34,
   "metadata": {},
   "outputs": [
    {
     "output_type": "execute_result",
     "data": {
      "text/plain": "['apple', 'android', 'Amy', 'b', 'bb', 'bbb', 'cat', 'carrot', 'civet']"
     },
     "metadata": {},
     "execution_count": 34
    }
   ],
   "source": [
    "def flatten_list(nested_list):\n",
    "\n",
    "    flat_list = []\n",
    "    for sublist in nested_list:\n",
    "        for item in sublist:\n",
    "            flat_list.append(item)\n",
    "    return flat_list \n",
    "\n",
    "flatten_list(spam)"
   ]
  },
  {
   "cell_type": "code",
   "execution_count": null,
   "metadata": {},
   "outputs": [],
   "source": []
  }
 ]
}